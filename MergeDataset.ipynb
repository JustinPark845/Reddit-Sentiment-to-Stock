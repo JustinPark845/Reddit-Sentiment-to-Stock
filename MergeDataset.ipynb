{
  "nbformat": 4,
  "nbformat_minor": 0,
  "metadata": {
    "colab": {
      "provenance": [],
      "include_colab_link": true
    },
    "kernelspec": {
      "name": "python3",
      "display_name": "Python 3"
    },
    "language_info": {
      "name": "python"
    }
  },
  "cells": [
    {
      "cell_type": "markdown",
      "metadata": {
        "id": "view-in-github",
        "colab_type": "text"
      },
      "source": [
        "<a href=\"https://colab.research.google.com/github/JustinPark845/Natural-Language-Processing-Final-Project/blob/main/MergeDataset.ipynb\" target=\"_parent\"><img src=\"https://colab.research.google.com/assets/colab-badge.svg\" alt=\"Open In Colab\"/></a>"
      ]
    },
    {
      "cell_type": "code",
      "execution_count": null,
      "metadata": {
        "id": "jHWXbGsRziFE"
      },
      "outputs": [],
      "source": [
        "from google.colab import drive\n",
        "drive.mount('/content/drive')"
      ]
    },
    {
      "cell_type": "code",
      "source": [
        "import ast\n",
        "# 2018; threshold = 5 upvotes; limit = none\n",
        "f=open(\"/content/drive/MyDrive/nlp_project/5thres_res_2018.txt\", \"r\")\n",
        "reddit2018 = ast.literal_eval(f.read())\n",
        "f.close()\n",
        "\n",
        "# 2019; threshold = 5 upvotes; limit = none\n",
        "f=open(\"/content/drive/MyDrive/nlp_project/5thres_res_2019.txt\", \"r\")\n",
        "reddit2019 = ast.literal_eval(f.read())\n",
        "f.close()\n",
        "\n",
        "# 2021; threshold = 5 upvotes; limit = none\n",
        "f=open(\"/content/drive/MyDrive/nlp_project/5thres_res_2021.txt\", \"r\")\n",
        "reddit2021 = ast.literal_eval(f.read())\n",
        "f.close()\n",
        "\n",
        "# 2022; threshold = none; limit = 10\n",
        "f=open(\"/content/drive/MyDrive/nlp_project/10lim_res_2022.txt\", \"r\")\n",
        "reddit2022 = ast.literal_eval(f.read())\n",
        "f.close()\n",
        "\n",
        "date_to_reddit_post = reddit2018\n",
        "date_to_reddit_post.update(reddit2019)\n",
        "date_to_reddit_post.update(reddit2021)\n",
        "date_to_reddit_post.update(reddit2022)\n",
        "\n",
        "f=open(\"/content/drive/MyDrive/nlp_project/yfinance.txt\", \"r\")\n",
        "yfinance = ast.literal_eval(f.read())\n",
        "f.close()"
      ],
      "metadata": {
        "id": "3RecB8RpznN8"
      },
      "execution_count": null,
      "outputs": []
    },
    {
      "cell_type": "code",
      "source": [
        "import datetime as dt\n",
        "\n",
        "text_to_label = []\n",
        "\n",
        "count = 0\n",
        "current_date = dt.date(2018, 1, 1)\n",
        "end_date = dt.date.today()\n",
        "while (current_date <= end_date):\n",
        "  print(current_date, len(date_to_reddit_post.get(str(current_date),[])), date_to_reddit_post.get(str(current_date)))\n",
        "  date_posts = date_to_reddit_post.get(str(current_date),False)\n",
        "  if date_posts:\n",
        "    for title, text_entry in date_posts:\n",
        "      for ticker in [\"AMZN\",\"AAPL\",\"MSFT\",\"GOOGL\",\"TSLA\",\"NVDA\",\"AMD\",\"NFLX\",\"SPY\",\"META\"]:\n",
        "        if title.upper().find(ticker) != -1:\n",
        "          if current_date.weekday() == 4:\n",
        "            if current_date.year in [2018, 2019]:\n",
        "              label = yfinance[ticker][0].get(str(current_date + dt.timedelta(days=3)),None)\n",
        "            else:\n",
        "              label = yfinance[ticker][1].get(str(current_date + dt.timedelta(days=3)),None)\n",
        "          elif current_date.weekday() == 5:\n",
        "            if current_date.year in [2018, 2019]:\n",
        "              label = yfinance[ticker][0].get(str(current_date + dt.timedelta(days=2)),None)\n",
        "            else:\n",
        "              label = yfinance[ticker][1].get(str(current_date + dt.timedelta(days=2)),None)\n",
        "          else:\n",
        "            if current_date.year in [2018, 2019]:\n",
        "              label = yfinance[ticker][0].get(str(current_date + dt.timedelta(days=1)),None)\n",
        "            else:\n",
        "              label = yfinance[ticker][1].get(str(current_date + dt.timedelta(days=1)),None)\n",
        "          if label:\n",
        "            count += 1\n",
        "            text_to_label.append({\"text\": text_entry, \"label\": label})\n",
        "  current_date += dt.timedelta(days=1)"
      ],
      "metadata": {
        "id": "cFFIu1s_zoDO"
      },
      "execution_count": null,
      "outputs": []
    },
    {
      "cell_type": "code",
      "source": [
        "import random\n",
        "random.seed(41)\n",
        "\n",
        "random.shuffle(text_to_label)\n",
        "text_to_label_train = text_to_label[:round(len(text_to_label) * 0.8)]\n",
        "text_to_label_test = text_to_label[round(len(text_to_label) * 0.8):]"
      ],
      "metadata": {
        "id": "EgpB72Guzx_2"
      },
      "execution_count": null,
      "outputs": []
    },
    {
      "cell_type": "code",
      "source": [
        "# Create txt\n",
        "f=open(\"/content/drive/MyDrive/nlp_project/text_to_label.txt\", \"w\")\n",
        "f.write(str(text_to_label))\n",
        "f.close()"
      ],
      "metadata": {
        "id": "E0--4lFDTgIn"
      },
      "execution_count": null,
      "outputs": []
    },
    {
      "cell_type": "code",
      "source": [
        "# Create csv\n",
        "import csv  \n",
        "\n",
        "header = ['text','label']\n",
        "\n",
        "with open('/content/drive/MyDrive/nlp_project/text_to_label_train.csv', 'w', encoding='UTF8') as f:\n",
        "    writer = csv.writer(f)\n",
        "    writer.writerow(header)\n",
        "    for i in text_to_label_train:\n",
        "      if i[\"label\"] < 0:\n",
        "        writer.writerow([i[\"text\"],0])\n",
        "      else:\n",
        "        writer.writerow([i[\"text\"],i[\"label\"]])\n",
        "\n",
        "with open('/content/drive/MyDrive/nlp_project/text_to_label_test.csv', 'w', encoding='UTF8') as f:\n",
        "    writer = csv.writer(f)\n",
        "    writer.writerow(header)\n",
        "    for i in text_to_label_test:\n",
        "      if i[\"label\"] < 0:\n",
        "        writer.writerow([i[\"text\"],0])\n",
        "      else:\n",
        "        writer.writerow([i[\"text\"],i[\"label\"]])"
      ],
      "metadata": {
        "id": "TVSRzuuezzzw"
      },
      "execution_count": null,
      "outputs": []
    }
  ]
}