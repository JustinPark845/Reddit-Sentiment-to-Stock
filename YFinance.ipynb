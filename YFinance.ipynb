{
  "nbformat": 4,
  "nbformat_minor": 0,
  "metadata": {
    "colab": {
      "provenance": [],
      "include_colab_link": true
    },
    "kernelspec": {
      "name": "python3",
      "display_name": "Python 3"
    },
    "language_info": {
      "name": "python"
    },
    "accelerator": "GPU",
    "gpuClass": "standard"
  },
  "cells": [
    {
      "cell_type": "markdown",
      "metadata": {
        "id": "view-in-github",
        "colab_type": "text"
      },
      "source": [
        "<a href=\"https://colab.research.google.com/github/JustinPark845/Natural-Language-Processing-Final-Project/blob/main/YFinance.ipynb\" target=\"_parent\"><img src=\"https://colab.research.google.com/assets/colab-badge.svg\" alt=\"Open In Colab\"/></a>"
      ]
    },
    {
      "cell_type": "code",
      "source": [
        "from google.colab import drive\n",
        "drive.mount('/content/drive')"
      ],
      "metadata": {
        "colab": {
          "base_uri": "https://localhost:8080/"
        },
        "id": "zKGdHHDNkW5H",
        "outputId": "7b961dd5-1599-4c5b-932e-a9a3b669b040"
      },
      "execution_count": null,
      "outputs": [
        {
          "output_type": "stream",
          "name": "stdout",
          "text": [
            "Mounted at /content/drive\n"
          ]
        }
      ]
    },
    {
      "cell_type": "code",
      "source": [
        "!pip install yfinance --upgrade --no-cache-dir\n",
        "\n",
        "import yfinance as yf"
      ],
      "metadata": {
        "id": "JLm0wDifKAW4",
        "colab": {
          "base_uri": "https://localhost:8080/"
        },
        "outputId": "e049f192-16f6-4c7f-89c1-483ef44f98a1"
      },
      "execution_count": null,
      "outputs": [
        {
          "output_type": "stream",
          "name": "stdout",
          "text": [
            "Looking in indexes: https://pypi.org/simple, https://us-python.pkg.dev/colab-wheels/public/simple/\n",
            "Collecting yfinance\n",
            "  Downloading yfinance-0.1.87-py2.py3-none-any.whl (29 kB)\n",
            "Requirement already satisfied: pandas>=0.24.0 in /usr/local/lib/python3.8/dist-packages (from yfinance) (1.3.5)\n",
            "Requirement already satisfied: multitasking>=0.0.7 in /usr/local/lib/python3.8/dist-packages (from yfinance) (0.0.11)\n",
            "Requirement already satisfied: numpy>=1.15 in /usr/local/lib/python3.8/dist-packages (from yfinance) (1.21.6)\n",
            "Requirement already satisfied: appdirs>=1.4.4 in /usr/local/lib/python3.8/dist-packages (from yfinance) (1.4.4)\n",
            "Requirement already satisfied: lxml>=4.5.1 in /usr/local/lib/python3.8/dist-packages (from yfinance) (4.9.1)\n",
            "Collecting requests>=2.26\n",
            "  Downloading requests-2.28.1-py3-none-any.whl (62 kB)\n",
            "\u001b[K     |████████████████████████████████| 62 kB 8.1 MB/s \n",
            "\u001b[?25hRequirement already satisfied: python-dateutil>=2.7.3 in /usr/local/lib/python3.8/dist-packages (from pandas>=0.24.0->yfinance) (2.8.2)\n",
            "Requirement already satisfied: pytz>=2017.3 in /usr/local/lib/python3.8/dist-packages (from pandas>=0.24.0->yfinance) (2022.6)\n",
            "Requirement already satisfied: six>=1.5 in /usr/local/lib/python3.8/dist-packages (from python-dateutil>=2.7.3->pandas>=0.24.0->yfinance) (1.15.0)\n",
            "Requirement already satisfied: urllib3<1.27,>=1.21.1 in /usr/local/lib/python3.8/dist-packages (from requests>=2.26->yfinance) (1.24.3)\n",
            "Requirement already satisfied: certifi>=2017.4.17 in /usr/local/lib/python3.8/dist-packages (from requests>=2.26->yfinance) (2022.9.24)\n",
            "Requirement already satisfied: charset-normalizer<3,>=2 in /usr/local/lib/python3.8/dist-packages (from requests>=2.26->yfinance) (2.1.1)\n",
            "Requirement already satisfied: idna<4,>=2.5 in /usr/local/lib/python3.8/dist-packages (from requests>=2.26->yfinance) (2.10)\n",
            "Installing collected packages: requests, yfinance\n",
            "  Attempting uninstall: requests\n",
            "    Found existing installation: requests 2.23.0\n",
            "    Uninstalling requests-2.23.0:\n",
            "      Successfully uninstalled requests-2.23.0\n",
            "Successfully installed requests-2.28.1 yfinance-0.1.87\n"
          ]
        }
      ]
    },
    {
      "cell_type": "code",
      "source": [
        "def parse(result, historical):\n",
        "  for i in range(len(historical['Open'].keys()) - 5):\n",
        "    keyOpen = list(historical['Open'].keys())[i]\n",
        "    keyClose = list(historical['Open'].keys())[i + 5]\n",
        "    if historical['Open'][keyOpen] < historical['Close'][keyClose]:\n",
        "      result[keyOpen.date().strftime(\"%Y-%m-%d\")] = 1\n",
        "    elif historical['Open'][keyOpen] > historical['Close'][keyClose]:\n",
        "      result[keyOpen.date().strftime(\"%Y-%m-%d\")] = -1\n",
        "    else:\n",
        "      result[keyOpen.date().strftime(\"%Y-%m-%d\")] = 0\n"
      ],
      "metadata": {
        "id": "ltb3hcR3M0jF"
      },
      "execution_count": null,
      "outputs": []
    },
    {
      "cell_type": "code",
      "source": [
        "tickers = [\"AMZN\",\"AAPL\",\"MSFT\",\"GOOGL\",\"TSLA\",\"NVDA\",\"AMD\",\"NFLX\",\"SPY\",\"META\"]\n",
        "tickers_dicts = {}\n",
        "\n",
        "for ticker in tickers:\n",
        "  result_1day_2018_19 = {}\n",
        "  result_1day_2021_22 = {}\n",
        "  stock = yf.Ticker(ticker)\n",
        "  stock_historical = stock.history(start=\"2018-01-01\", end=\"2019-12-31\", interval=\"1d\")\n",
        "  parse(result_1day_2018_19, stock_historical)\n",
        "  stock_historical2 = stock.history(start=\"2021-01-01\", end=\"2022-11-30\", interval=\"1d\")\n",
        "  parse(result_1day_2021_22, stock_historical2)\n",
        "  tickers_dicts[ticker] = [result_1day_2018_19, result_1day_2021_22]"
      ],
      "metadata": {
        "id": "LtvgkM90M2rv"
      },
      "execution_count": null,
      "outputs": []
    },
    {
      "cell_type": "code",
      "source": [
        "f=open(\"/content/drive/MyDrive/nlp_project/yfinance.txt\", \"w\")\n",
        "f.write(str(tickers_dicts))\n",
        "f.close()"
      ],
      "metadata": {
        "id": "ymh9ZRiIrduv"
      },
      "execution_count": null,
      "outputs": []
    }
  ]
}