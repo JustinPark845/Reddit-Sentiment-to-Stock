{
  "nbformat": 4,
  "nbformat_minor": 0,
  "metadata": {
    "colab": {
      "provenance": [],
      "authorship_tag": "ABX9TyMXVnwFOAJGXdf7TpX8sOy0",
      "include_colab_link": true
    },
    "kernelspec": {
      "name": "python3",
      "display_name": "Python 3"
    },
    "language_info": {
      "name": "python"
    }
  },
  "cells": [
    {
      "cell_type": "markdown",
      "metadata": {
        "id": "view-in-github",
        "colab_type": "text"
      },
      "source": [
        "<a href=\"https://colab.research.google.com/github/JustinPark845/Natural-Language-Processing-Final-Project/blob/main/SentimentEvaluation.ipynb\" target=\"_parent\"><img src=\"https://colab.research.google.com/assets/colab-badge.svg\" alt=\"Open In Colab\"/></a>"
      ]
    },
    {
      "cell_type": "code",
      "source": [
        "#Download all three sentiments\n",
        "!pip install flair\n",
        "!pip install spacy==3.4\n",
        "!pip install spacytextblob\n",
        "!pip install vaderSentiment\n",
        "!pip install pysentiment2"
      ],
      "metadata": {
        "id": "tGzPYDWWUdoc"
      },
      "execution_count": null,
      "outputs": []
    },
    {
      "cell_type": "code",
      "source": [
        "import flair\n",
        "import spacy\n",
        "from flair.models import TextClassifier\n",
        "from flair.data import Sentence\n",
        "from spacytextblob.spacytextblob import SpacyTextBlob\n",
        "from vaderSentiment.vaderSentiment import SentimentIntensityAnalyzer\n",
        "import pysentiment2 as ps\n",
        "\n",
        "#Load classifier for English\n",
        "flair_sentiment = TextClassifier.load('en-sentiment')\n",
        "spacy_sentiment = spacy.load('en_core_web_sm')\n",
        "spacy_sentiment.add_pipe('spacytextblob')\n",
        "hiv4 = ps.HIV4()"
      ],
      "metadata": {
        "id": "tAdA2FmeUt0E"
      },
      "execution_count": null,
      "outputs": []
    },
    {
      "cell_type": "code",
      "execution_count": null,
      "metadata": {
        "id": "X85Eb1E9UCcz"
      },
      "outputs": [],
      "source": [
        "from operator import index\n",
        "import csv\n",
        "\n",
        "flair_corr = 0\n",
        "spacy_corr = 0\n",
        "vader_corr = 0\n",
        "pysent2_corr = 0\n",
        "invalid = 0\n",
        "total = 0\n",
        "count = 0\n",
        "f = open(\"/content/drive/MyDrive/nlp_project/train.tsv\", \"r\")\n",
        "tsv_file = csv.reader(f, delimiter=\"\\t\")\n",
        "for line in tsv_file:\n",
        "  if count == 0:\n",
        "    count += 1\n",
        "    continue\n",
        "  total += 1\n",
        "  if int(line[3]) > 2:\n",
        "     corr = 1\n",
        "  elif int(line[3]) < 2:\n",
        "     corr = -1\n",
        "  else: \n",
        "     invalid += 1\n",
        "     continue\n",
        "\n",
        "  # Flair\n",
        "  s = flair.data.Sentence(line[2])\n",
        "  flair_sentiment.predict(s)\n",
        "  try:\n",
        "    total_sentiment = s.labels[0]\n",
        "    assert total_sentiment.value in ['POSITIVE', 'NEGATIVE']\n",
        "    val_f = 1 if total_sentiment.value == 'POSITIVE' else -1\n",
        "    if val_f == corr:\n",
        "      flair_corr +=1\n",
        "  except IndexError:\n",
        "    print(\"skipped\")\n",
        "\n",
        "  #Spacy\n",
        "  text = spacy_sentiment(line[2])\n",
        "  polarity_score = text._.polarity\n",
        "  if polarity_score > 0:\n",
        "    val_s = 1\n",
        "  else:\n",
        "    val_s = -1\n",
        "  if val_s == corr:\n",
        "    spacy_corr += 1\n",
        "\n",
        "  #Vader\n",
        "  vader_sent = SentimentIntensityAnalyzer()\n",
        "  vader_result = vader_sent.polarity_scores(line[2])\n",
        "  if vader_result['compound'] > 0.05:\n",
        "    val_v = 1\n",
        "  else:\n",
        "    val_v = -1\n",
        "  if val_v == corr:\n",
        "    vader_corr += 1\n",
        "  \n",
        "  #PySentiment2\n",
        "  tokens = hiv4.tokenize(n)\n",
        "  val_py = -1\n",
        "  score = hiv4.get_score(tokens)\n",
        "  if score['Positive'] >= score['Negative']:\n",
        "    val_py = 1\n",
        "  if val_py == corr:\n",
        "    pysent2_corr += 1\n",
        "  print(total)\n",
        "\n",
        "f.close()"
      ]
    },
    {
      "cell_type": "code",
      "source": [
        "print(\"total\", total-invalid)\n",
        "print(\"flair accuracy is: \", flair_corr/(total - invalid))\n",
        "print(\"spaCy accuracy is: \", spacy_corr/(total - invalid))\n",
        "print(\"vader accuracy is: \", vader_corr/(total - invalid))\n",
        "print(\"PySentiment2 accuracy is: \", pysent2_corr/(total - invalid))"
      ],
      "metadata": {
        "id": "tfqjP0XzUc9S"
      },
      "execution_count": null,
      "outputs": []
    }
  ]
}