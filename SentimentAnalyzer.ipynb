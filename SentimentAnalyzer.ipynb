{
  "cells": [
    {
      "cell_type": "markdown",
      "metadata": {
        "id": "view-in-github",
        "colab_type": "text"
      },
      "source": [
        "<a href=\"https://colab.research.google.com/github/JustinPark845/Natural-Language-Processing-Final-Project/blob/main/SentimentAnalyzer.ipynb\" target=\"_parent\"><img src=\"https://colab.research.google.com/assets/colab-badge.svg\" alt=\"Open In Colab\"/></a>"
      ]
    },
    {
      "cell_type": "markdown",
      "metadata": {
        "id": "NsxL4B-Qp6U6"
      },
      "source": [
        "#**Combined Flair, Spacy, Vader Model**"
      ]
    },
    {
      "cell_type": "code",
      "execution_count": null,
      "metadata": {
        "id": "JJnuHzejpveN"
      },
      "outputs": [],
      "source": [
        "#Download all three sentiments\n",
        "!pip install flair\n",
        "!pip install spacy==3.4\n",
        "!pip install spacytextblob\n",
        "!pip install vaderSentiment\n",
        "!pip install pysentiment2"
      ]
    },
    {
      "cell_type": "code",
      "execution_count": null,
      "metadata": {
        "id": "Sr7YAn4hp5Q6"
      },
      "outputs": [],
      "source": [
        "import flair\n",
        "import spacy\n",
        "from flair.models import TextClassifier\n",
        "from flair.data import Sentence\n",
        "from spacytextblob.spacytextblob import SpacyTextBlob\n",
        "from vaderSentiment.vaderSentiment import SentimentIntensityAnalyzer\n",
        "import pysentiment2 as ps\n",
        "\n",
        "#Load classifier for English\n",
        "flair_sentiment = TextClassifier.load('en-sentiment')\n",
        "spacy_sentiment = spacy.load('en_core_web_sm')\n",
        "spacy_sentiment.add_pipe('spacytextblob')\n",
        "hiv4 = ps.HIV4()\n",
        "\n",
        "#Combined Function to output array of results in order of [Flair, Spacy, Vader]\n",
        "def combined_FSV(n):\n",
        "  result = []\n",
        "  \n",
        "  #Flair\n",
        "  s = flair.data.Sentence(n)\n",
        "  flair_sentiment.predict(s)\n",
        "  total_sentiment = s.labels[0]\n",
        "  assert total_sentiment.value in ['POSITIVE', 'NEGATIVE']\n",
        "  val_f = 1 if total_sentiment.value == 'POSITIVE' else -1\n",
        "  \n",
        "  #Spacy\n",
        "  text = spacy_sentiment(n)\n",
        "  polarity_score = text._.polarity\n",
        "  if polarity_score > 0:\n",
        "    val_s = 1\n",
        "  else:\n",
        "    val_s = -1\n",
        "  \n",
        "  #Vader\n",
        "  vader_sent = SentimentIntensityAnalyzer()\n",
        "  vader_result = vader_sent.polarity_scores(n)\n",
        "  if vader_result['compound'] > 0.05:\n",
        "    val_v = 1\n",
        "  else:\n",
        "    val_v = -1\n",
        "  \n",
        "  #Pysentiment2\n",
        "  tokens = hiv4.tokenize(n)\n",
        "  val_py = -1\n",
        "  score = hiv4.get_score(tokens)\n",
        "  if score['Positive'] >= score['Negative']:\n",
        "    val_py = 1\n",
        "  \n",
        "  result.append(val_f)\n",
        "  result.append(val_s)\n",
        "  result.append(val_v)\n",
        "  result.append(val_py)\n",
        "  return result"
      ]
    },
    {
      "cell_type": "markdown",
      "metadata": {
        "id": "EZ7dRjYWrCLw"
      },
      "source": [
        "#**Example**"
      ]
    },
    {
      "cell_type": "code",
      "execution_count": null,
      "metadata": {
        "id": "ejqihb2srBn1"
      },
      "outputs": [],
      "source": [
        "n = 'I love Tesla'\n",
        "result = combined_FSV(n)\n",
        "\n",
        "# print sentence with predicted labels\n",
        "print(result)"
      ]
    },
    {
      "cell_type": "markdown",
      "metadata": {
        "id": "daXlwuYAhJEQ"
      },
      "source": [
        "# **FLAIR MODEL**"
      ]
    },
    {
      "cell_type": "code",
      "execution_count": null,
      "metadata": {
        "id": "df1ZojNkVowT"
      },
      "outputs": [],
      "source": [
        "!pip install flair"
      ]
    },
    {
      "cell_type": "code",
      "execution_count": null,
      "metadata": {
        "id": "0vPzsYcwU9tm"
      },
      "outputs": [],
      "source": [
        "import flair\n",
        "from flair.models import TextClassifier\n",
        "from flair.data import Sentence\n",
        "\n",
        "#Load classifier for English\n",
        "flair_sentiment = TextClassifier.load('en-sentiment')\n",
        "\n",
        "def senti_score_flair(n):\n",
        "    s = flair.data.Sentence(n)\n",
        "    flair_sentiment.predict(s)\n",
        "    total_sentiment = s.labels[0]\n",
        "    assert total_sentiment.value in ['POSITIVE', 'NEGATIVE']\n",
        "    sign = 1 if total_sentiment.value == 'POSITIVE' else -1\n",
        "    return sign"
      ]
    },
    {
      "cell_type": "markdown",
      "metadata": {
        "id": "Ve74U_y8c14x"
      },
      "source": [
        "#**PYSENTIMENT2 (Using Harvard IV-4 dictionary (hiv4)**"
      ]
    },
    {
      "cell_type": "code",
      "execution_count": null,
      "metadata": {
        "id": "nj2qeUPMdkGg"
      },
      "outputs": [],
      "source": [
        "!pip install pysentiment2"
      ]
    },
    {
      "cell_type": "code",
      "execution_count": null,
      "metadata": {
        "id": "SOZNzbrvdAZE"
      },
      "outputs": [],
      "source": [
        "import pysentiment2 as ps\n",
        "hiv4 = ps.HIV4()\n",
        "\n",
        "def senti_score_pysentiment(n):\n",
        "  tokens = hiv4.tokenize(n)\n",
        "  val_py = -1\n",
        "  score = hiv4.get_score(tokens)\n",
        "  if score['Positive'] >= score['Negative']:\n",
        "    val_py = 1\n",
        "  return val_py"
      ]
    },
    {
      "cell_type": "markdown",
      "metadata": {
        "id": "8B1EaXCvhRFn"
      },
      "source": [
        "# **PYSENTIMENT MODEL EXAMPLE**"
      ]
    },
    {
      "cell_type": "code",
      "execution_count": null,
      "metadata": {
        "id": "uN0XVwR7deMW"
      },
      "outputs": [],
      "source": [
        "n = 'I love Tesla'\n",
        "result = senti_score_pysentiment(n)\n",
        "\n",
        "## print sentence with predicted labels\n",
        "print(result)"
      ]
    },
    {
      "cell_type": "markdown",
      "metadata": {
        "id": "81wlidVOheIV"
      },
      "source": [
        "#**SPACY MODEL**"
      ]
    },
    {
      "cell_type": "code",
      "execution_count": null,
      "metadata": {
        "id": "Pd4h0WDsilmR"
      },
      "outputs": [],
      "source": [
        "!pip install spacy==3.4"
      ]
    },
    {
      "cell_type": "code",
      "execution_count": null,
      "metadata": {
        "id": "1RPO52V7lnHf"
      },
      "outputs": [],
      "source": [
        "import spacy\n",
        "from spacytextblob.spacytextblob import SpacyTextBlob\n",
        "\n",
        "#Load classifier for English\n",
        "spacy_sentiment = spacy.load('en_core_web_sm')\n",
        "spacy_sentiment.add_pipe('spacytextblob')\n",
        "\n",
        "def senti_score_spacy(n):\n",
        "    text = spacy_sentiment(n)\n",
        "    polarity_score = text._.polarity\n",
        "    if polarity_score > 0:\n",
        "      val = 1\n",
        "    else:\n",
        "      val = -1\n",
        "    return val"
      ]
    },
    {
      "cell_type": "markdown",
      "metadata": {
        "id": "t2NHtADCmxef"
      },
      "source": [
        "#**SPACY MODEL EXAMPLE**"
      ]
    },
    {
      "cell_type": "code",
      "execution_count": null,
      "metadata": {
        "id": "Ch2l15hQmpYX"
      },
      "outputs": [],
      "source": [
        "n = 'I hate Tesla'\n",
        "result = senti_score_spacy(n)\n",
        "\n",
        "# print sentence with predicted labels\n",
        "print(result)"
      ]
    },
    {
      "cell_type": "markdown",
      "metadata": {
        "id": "JKCk__MbOfox"
      },
      "source": [
        "#**VADER MODEL**"
      ]
    },
    {
      "cell_type": "code",
      "execution_count": null,
      "metadata": {
        "id": "SbiqbU2GO4ZF"
      },
      "outputs": [],
      "source": [
        "!pip install vaderSentiment"
      ]
    },
    {
      "cell_type": "code",
      "execution_count": null,
      "metadata": {
        "id": "ggTUm8YAPL3r"
      },
      "outputs": [],
      "source": [
        "from vaderSentiment.vaderSentiment import SentimentIntensityAnalyzer\n",
        "\n",
        "def senti_score_vader(n):\n",
        "  vader_sent = SentimentIntensityAnalyzer()\n",
        "  \n",
        "  vader_result = vader_sent.polarity_scores(n)\n",
        "  if vader_result['compound'] > 0.05:\n",
        "    val = 1\n",
        "  else:\n",
        "    val = -1\n",
        "  return val"
      ]
    },
    {
      "cell_type": "markdown",
      "metadata": {
        "id": "-byxVLalQtlI"
      },
      "source": [
        "#**VADER MODEL EXAMPLE**"
      ]
    },
    {
      "cell_type": "code",
      "execution_count": null,
      "metadata": {
        "id": "EAUANXp2QVRN"
      },
      "outputs": [],
      "source": [
        "n = 'He is okay'\n",
        "result = senti_score_vader(n)\n",
        "\n",
        "# print sentence with predicted labels\n",
        "print(result)"
      ]
    },
    {
      "cell_type": "markdown",
      "source": [
        "#**Create Sentiment to Label**"
      ],
      "metadata": {
        "id": "6wjuh7DRU5ED"
      }
    },
    {
      "cell_type": "code",
      "execution_count": null,
      "metadata": {
        "colab": {
          "background_save": true
        },
        "id": "QZsDcrG1wSph"
      },
      "outputs": [],
      "source": [
        "from google.colab import drive\n",
        "drive.mount('/content/drive')"
      ]
    },
    {
      "cell_type": "code",
      "execution_count": null,
      "metadata": {
        "colab": {
          "background_save": true
        },
        "id": "q1NV-TSiwYcn"
      },
      "outputs": [],
      "source": [
        "import ast\n",
        "f=open(\"/content/drive/MyDrive/nlp_project/text_to_label.txt\", \"r\")\n",
        "text_to_label = ast.literal_eval(f.read())\n",
        "f.close()\n",
        "\n",
        "sentiment_to_label = []\n",
        "for data in text_to_label:\n",
        "  sentiment = combined_FSV(data[\"text\"])\n",
        "  sentiment_to_label.append({\"sentiment\": sentiment, \"label\": data[\"label\"]})"
      ]
    },
    {
      "cell_type": "code",
      "execution_count": null,
      "metadata": {
        "colab": {
          "background_save": true
        },
        "id": "9Fj08EZMxOkM"
      },
      "outputs": [],
      "source": [
        "f=open(\"/content/drive/MyDrive/nlp_project/sentiment_to_label.txt\", \"w\")\n",
        "f.write(str(sentiment_to_label))\n",
        "f.close()"
      ]
    }
  ],
  "metadata": {
    "accelerator": "GPU",
    "colab": {
      "provenance": [],
      "include_colab_link": true
    },
    "gpuClass": "standard",
    "kernelspec": {
      "display_name": "Python 3",
      "name": "python3"
    },
    "language_info": {
      "name": "python"
    }
  },
  "nbformat": 4,
  "nbformat_minor": 0
}