{
  "nbformat": 4,
  "nbformat_minor": 0,
  "metadata": {
    "colab": {
      "provenance": [],
      "include_colab_link": true
    },
    "kernelspec": {
      "name": "python3",
      "display_name": "Python 3"
    },
    "language_info": {
      "name": "python"
    }
  },
  "cells": [
    {
      "cell_type": "markdown",
      "metadata": {
        "id": "view-in-github",
        "colab_type": "text"
      },
      "source": [
        "<a href=\"https://colab.research.google.com/github/JustinPark845/Natural-Language-Processing-Final-Project/blob/main/Baselines.ipynb\" target=\"_parent\"><img src=\"https://colab.research.google.com/assets/colab-badge.svg\" alt=\"Open In Colab\"/></a>"
      ]
    },
    {
      "cell_type": "code",
      "source": [
        "from google.colab import drive\n",
        "drive.mount('/content/drive')"
      ],
      "metadata": {
        "id": "5qeab0CNvt_x"
      },
      "execution_count": null,
      "outputs": []
    },
    {
      "cell_type": "code",
      "source": [
        "import ast\n",
        "f=open(\"/content/drive/MyDrive/nlp_project/text_to_label.txt\", \"r\")\n",
        "text_to_label = ast.literal_eval(f.read())\n",
        "f.close()"
      ],
      "metadata": {
        "id": "9SKc4WHYvf5e"
      },
      "execution_count": null,
      "outputs": []
    },
    {
      "cell_type": "code",
      "source": [
        "text_data = []\n",
        "text_label = []\n",
        "for diction in text_to_label:\n",
        "  text_data.append(diction[\"text\"])\n",
        "  text_label.append(diction[\"label\"])"
      ],
      "metadata": {
        "id": "cRmTef_evz7a"
      },
      "execution_count": null,
      "outputs": []
    },
    {
      "cell_type": "code",
      "execution_count": null,
      "metadata": {
        "id": "rJULu430uOyF"
      },
      "outputs": [],
      "source": [
        "from sklearn.feature_extraction.text import CountVectorizer\n",
        "count_vect = CountVectorizer()\n",
        "X_train_counts = count_vect.fit_transform(text_data)"
      ]
    },
    {
      "cell_type": "code",
      "source": [
        "from sklearn.feature_extraction.text import TfidfTransformer\n",
        "tfidf_transformer = TfidfTransformer()\n",
        "X_train_tfidf = tfidf_transformer.fit_transform(X_train_counts)"
      ],
      "metadata": {
        "id": "lRE10_OU48AG"
      },
      "execution_count": null,
      "outputs": []
    },
    {
      "cell_type": "code",
      "source": [
        "import numpy as np\n",
        "\n",
        "npdata = X_train_tfidf.toarray()\n",
        "nptarget = text_label"
      ],
      "metadata": {
        "id": "LfGMVKS-1vc3"
      },
      "execution_count": null,
      "outputs": []
    },
    {
      "cell_type": "code",
      "source": [
        "from sklearn.model_selection import cross_validate\n",
        "\n",
        "# These are the scoring metrics we will consider\n",
        "scoring_metrics = ['accuracy', 'precision', 'recall', 'f1']\n",
        "\n",
        "from sklearn.naive_bayes import GaussianNB\n",
        "\n",
        "gnb = GaussianNB()\n",
        "\n",
        "# Let's train a model with 10-fold cross validation.\n",
        "scores = cross_validate(gnb, npdata, nptarget, cv=10, scoring=scoring_metrics)\n",
        "\n",
        "import statistics\n",
        "# Then we print out each of the metrics for each of the 10 folds.\n",
        "for score_name, score_value in scores.items():\n",
        "    print(score_name+\"_average\", statistics.mean(score_value))\n"
      ],
      "metadata": {
        "id": "6xqE07xgwgKf"
      },
      "execution_count": null,
      "outputs": []
    },
    {
      "cell_type": "code",
      "source": [
        "from sklearn.neighbors import KNeighborsClassifier\n",
        "from sklearn import tree\n",
        "from sklearn.svm import LinearSVC\n",
        "from sklearn.pipeline import make_pipeline\n",
        "from sklearn.preprocessing import StandardScaler\n",
        "\n",
        "\n",
        "knn = KNeighborsClassifier(n_neighbors=5)\n",
        "dtree = tree.DecisionTreeClassifier()\n",
        "lsvc = make_pipeline(StandardScaler(), LinearSVC(random_state=0, tol=1e-5))\n",
        "\n",
        "# Let's train a model with 10-fold cross validation.\n",
        "scores = cross_validate(lsvc, npdata, nptarget, cv=10, scoring=scoring_metrics)\n",
        "print(\"---\", \"Linear SVC Classifier\", \"---\")\n",
        "\n",
        "# # Then we print out each of the metrics for each of the 10 folds.\n",
        "for score_name, score_value in scores.items():\n",
        "    print(score_name+\"_average\", statistics.mean(score_value))\n",
        "print()\n",
        "\n",
        "# Let's train a model with 10-fold cross validation.\n",
        "scores = cross_validate(knn, npdata, nptarget, cv=10, scoring=scoring_metrics)\n",
        "\n",
        "# Then we print out each of the metrics for each of the 10 folds.\n",
        "print(\"---\", \"KNeighbors Classifier\", \"---\")\n",
        "for score_name, score_value in scores.items():\n",
        "    print(score_name+\"_average\", statistics.mean(score_value))\n",
        "print()\n",
        "\n",
        "# Let's train a model with 10-fold cross validation.\n",
        "scores = cross_validate(dtree, npdata, nptarget, cv=10, scoring=scoring_metrics)\n",
        "\n",
        "print(\"---\", \"Decision Tree Classifier\", \"---\")\n",
        "# Then we print out each of the metrics for each of the 10 folds.\n",
        "for score_name, score_value in scores.items():\n",
        "    print(score_name+\"_average\", statistics.mean(score_value))\n",
        "print()"
      ],
      "metadata": {
        "id": "y1mZytOr8cvW"
      },
      "execution_count": null,
      "outputs": []
    }
  ]
}